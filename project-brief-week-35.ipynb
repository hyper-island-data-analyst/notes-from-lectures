{
 "cells": [
  {
   "cell_type": "markdown",
   "metadata": {},
   "source": [
    "# Challenge your own cirriculum\n",
    "\n",
    "According to your cirriculum vs what you need to learn to get a job\n",
    "\n",
    "Groups of 3: \n",
    "    \n",
    "Pick a few jobs that interest and study what they entails and what is missing in the cirricum\n",
    "    \n",
    "Reesearch: wiith data analysis as a fprimary or secondayr what you work with? Pick a few jobs that interest your groyp\n",
    "    \n",
    "Identify the gaps: Given these jobs, what do they entails that is not already partof the curriculum? How does a typical day look like if your worki with any of these jobs? What skills do you need? Are all those skills covered in the curriculum?\n",
    "    \n",
    "Take action: what are you going to do about it? Outline steps to deal with the gaps that you identified\n",
    "    Present your analysis of the jobs their respetoive curricum gaps and your actions points on friday morning\n",
    "   \n",
    "   \n",
    "### Presentation: \n",
    "\n",
    "This friday morning starting at 9:00. 10-15 min. per group including questions and discsionss. Present in any way you want. \n",
    "\n",
    "https://drive.google.com/drive/u/1/folders/1ss442OoagFXIl8RzJZfhddVFKtirZO0o\n"
   ]
  }
 ],
 "metadata": {
  "kernelspec": {
   "display_name": "Python 3",
   "language": "python",
   "name": "python3"
  },
  "language_info": {
   "codemirror_mode": {
    "name": "ipython",
    "version": 3
   },
   "file_extension": ".py",
   "mimetype": "text/x-python",
   "name": "python",
   "nbconvert_exporter": "python",
   "pygments_lexer": "ipython3",
   "version": "3.7.3"
  }
 },
 "nbformat": 4,
 "nbformat_minor": 2
}
