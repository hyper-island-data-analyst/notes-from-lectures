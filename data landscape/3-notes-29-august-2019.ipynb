{
 "cells": [
  {
   "cell_type": "markdown",
   "metadata": {},
   "source": [
    "# Machine Learning in Industry\n",
    "\n",
    "## Occulus\n",
    "\n",
    "- Computer Vision\n",
    "- Search Rankning\n",
    "- Data Collection & Metrics\n",
    "\n",
    "Trying to build algos that can recognize clothes and then suggest similar products\n",
    "\n",
    "## Meltwater\n",
    "\n",
    "Media Monitoring of mentions of companies in news and social media\n",
    "\n",
    "- Entity Recogniation \n",
    "- Sentiment Analysis\n",
    "- Text Classification \n",
    "- Query Refinement\n",
    "- Recommendation\n",
    "\n",
    "## Spotify\n",
    "\n",
    "- User behaviour understanding\n",
    "- Churn prediction (using ML)\n",
    "- Metric Defination\n",
    "- Improve User Activation \n",
    "\n",
    "Problem with MAU (Montly Active Users) is that small changes doesn't show up at MAU. So they come up with some behaviour that indicate the intention of users to stay or leave. \n",
    "\n",
    "Music Streaming App \n",
    "\n",
    "- Building a new free product\n",
    "- Leading insights\n",
    "- Building ML solution to solve cold stard problem \n",
    "\n",
    "## Clusterone\n",
    "\n",
    "![With and Without Clusterzone](./images/clusterzone-slide.jpg)\n",
    "\n",
    "\n",
    "## King\n",
    "\n",
    "AI R & D\n",
    "\n",
    "- Scaling ML\n",
    "- Automation Development\n",
    "- Content Generation\n",
    "- Content Validation (Human like play testing)\n",
    "- Personalization \n",
    "\n",
    "\n",
    "\n",
    "\n",
    "\n"
   ]
  },
  {
   "cell_type": "code",
   "execution_count": null,
   "metadata": {},
   "outputs": [],
   "source": []
  }
 ],
 "metadata": {
  "kernelspec": {
   "display_name": "Python 3",
   "language": "python",
   "name": "python3"
  },
  "language_info": {
   "codemirror_mode": {
    "name": "ipython",
    "version": 3
   },
   "file_extension": ".py",
   "mimetype": "text/x-python",
   "name": "python",
   "nbconvert_exporter": "python",
   "pygments_lexer": "ipython3",
   "version": "3.7.3"
  }
 },
 "nbformat": 4,
 "nbformat_minor": 2
}
